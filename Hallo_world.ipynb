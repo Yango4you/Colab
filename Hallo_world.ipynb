{
  "nbformat": 4,
  "nbformat_minor": 0,
  "metadata": {
    "colab": {
      "name": "Hallo world.ipynb",
      "provenance": [],
      "mount_file_id": "1wHHcYBf7NXrSADnPPb4b-86at5ZKDJEq",
      "authorship_tag": "ABX9TyOjjTbkQ/XR8TePTT2XQqEc",
      "include_colab_link": true
    },
    "kernelspec": {
      "name": "python3",
      "display_name": "Python 3"
    }
  },
  "cells": [
    {
      "cell_type": "markdown",
      "metadata": {
        "id": "view-in-github",
        "colab_type": "text"
      },
      "source": [
        "<a href=\"https://colab.research.google.com/github/Yango4you/Colab/blob/master/Hallo_world.ipynb\" target=\"_parent\"><img src=\"https://colab.research.google.com/assets/colab-badge.svg\" alt=\"Open In Colab\"/></a>"
      ]
    },
    {
      "cell_type": "code",
      "metadata": {
        "id": "xlCbejeikpJi",
        "colab_type": "code",
        "outputId": "356cbe35-67d6-45a8-cb26-f32c42c0fafa",
        "colab": {
          "base_uri": "https://localhost:8080/",
          "height": 34
        }
      },
      "source": [
        "print(\"hallo world\")"
      ],
      "execution_count": 0,
      "outputs": [
        {
          "output_type": "stream",
          "text": [
            "hallo world\n"
          ],
          "name": "stdout"
        }
      ]
    },
    {
      "cell_type": "markdown",
      "metadata": {
        "id": "2GlsIx1DmAqw",
        "colab_type": "text"
      },
      "source": [
        "This is my first code\n",
        "\n",
        "\n"
      ]
    }
  ]
}